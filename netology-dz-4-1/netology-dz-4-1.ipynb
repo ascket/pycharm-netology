{
 "cells": [
  {
   "cell_type": "code",
   "execution_count": 1,
   "metadata": {},
   "outputs": [],
   "source": [
    "import pandas as pd\n",
    "import os"
   ]
  },
  {
   "cell_type": "code",
   "execution_count": null,
   "metadata": {},
   "outputs": [],
   "source": [
    "def top_names():\n",
    "    current_dir = os.getcwd()\n",
    "    years = input(\"Введите года через запятую (напр. 1998, 1974): \")\n",
    "    years_list = years.split(\", \")\n",
    "    for i in years_list:\n",
    "        new_path = os.path.join(current_dir, 'names', 'yob'+ i +'.txt')\n",
    "        names = pd.read_csv(open(new_path), names = ['Name', 'Gender', 'Count'])\n",
    "        names.index.name = 'Number'\n",
    "        print(\"ТОП-3 имён для года\", i)\n",
    "        print(names.sort_values(by='Count', ascending=False).head(3))\n",
    "\n",
    "top_names()"
   ]
  },
  {
   "cell_type": "markdown",
   "metadata": {},
   "source": [
    "Либо так для одного года:"
   ]
  },
  {
   "cell_type": "code",
   "execution_count": null,
   "metadata": {},
   "outputs": [],
   "source": [
    "def year(years):\n",
    "    current_dir = os.getcwd()\n",
    "    new_path = os.path.join(current_dir, 'names', 'yob'+ i +'.txt')\n",
    "    names = pd.read_csv(open(new_path), names = ['Name', 'Gender', 'Count'])\n",
    "    names.index.name = 'Number'\n",
    "    bert = names.sort_values(by='Count', ascending=False).head(3)\n",
    "    return bert \n",
    "\n",
    "years = input(\"Введите года через запятую (напр. 1998, 1974): \")\n",
    "years_list = years.split(\", \")\n",
    "print(year(years_list))"
   ]
  }
 ],
 "metadata": {
  "kernelspec": {
   "display_name": "Python 3",
   "language": "python",
   "name": "python3"
  },
  "language_info": {
   "codemirror_mode": {
    "name": "ipython",
    "version": 3
   },
   "file_extension": ".py",
   "mimetype": "text/x-python",
   "name": "python",
   "nbconvert_exporter": "python",
   "pygments_lexer": "ipython3",
   "version": "3.6.3"
  }
 },
 "nbformat": 4,
 "nbformat_minor": 2
}
