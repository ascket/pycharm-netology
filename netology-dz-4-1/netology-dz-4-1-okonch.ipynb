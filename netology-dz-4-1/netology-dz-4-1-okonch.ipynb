{
 "cells": [
  {
   "cell_type": "code",
   "execution_count": 26,
   "metadata": {},
   "outputs": [],
   "source": [
    "import pandas as pd\n",
    "import os"
   ]
  },
  {
   "cell_type": "code",
   "execution_count": 31,
   "metadata": {},
   "outputs": [
    {
     "name": "stdout",
     "output_type": "stream",
     "text": [
      "Введите года через запятую (напр. 1998, 1974): 1998, 1974\n"
     ]
    },
    {
     "data": {
      "text/plain": [
       "['Michael', 'Jacob', 'Matthew']"
      ]
     },
     "execution_count": 31,
     "metadata": {},
     "output_type": "execute_result"
    }
   ],
   "source": [
    "def top_names():\n",
    "    current_dir = os.getcwd()\n",
    "    years = input(\"Введите года через запятую (напр. 1998, 1974): \")\n",
    "    years_list = years.split(\", \")\n",
    "    df = pd.DataFrame()\n",
    "    for i in years_list:\n",
    "        new_path = os.path.join(current_dir, 'names', 'yob'+ i +'.txt')\n",
    "        names = pd.read_csv(open(new_path), names = ['Name', 'Gender', 'Count'])\n",
    "        names.index.name = 'Number'\n",
    "        df = pd.concat([df, names]).groupby(['Name', 'Gender'], as_index=False)[\"Count\"].sum()\n",
    "        names_top = df.sort_values(by='Count', ascending=False).head(3)\n",
    "        return [row[0] for row in names_top.values]\n",
    "        #print(\"ТОП-3 имён для года\", i)\n",
    "        #print(names.sort_values(by='Count', ascending=False).head(3))\n",
    "\n",
    "top_names()"
   ]
  },
  {
   "cell_type": "code",
   "execution_count": 30,
   "metadata": {},
   "outputs": [
    {
     "name": "stdout",
     "output_type": "stream",
     "text": [
      "Введите года через запятую (напр. 1998, 1974): 1998, 1974\n"
     ]
    },
    {
     "data": {
      "text/plain": [
       "{'F': [1766237, 1467455], 'M': [1910601, 1573112]}"
      ]
     },
     "execution_count": 30,
     "metadata": {},
     "output_type": "execute_result"
    }
   ],
   "source": [
    "def count_dynamics():\n",
    "    current_dir = os.getcwd()\n",
    "    years = input(\"Введите года через запятую (напр. 1998, 1974): \")\n",
    "    years_list = years.split(\", \")\n",
    "    male, female = [], []\n",
    "    result = []\n",
    "    for year in years_list:\n",
    "        new_path = os.path.join(current_dir, 'names', 'yob'+ year +'.txt')\n",
    "        bert = pd.read_csv(open(new_path), names = ['Name', 'Gender', 'Count'])\n",
    "        bert.index.name = 'Number'\n",
    "        male.append(bert.groupby('Gender').sum().at['M', 'Count'])\n",
    "        female.append(bert.groupby('Gender').sum().at['F', 'Count'])\n",
    "    return {'M': male, 'F': female}\n",
    "\n",
    "result = count_dynamics()\n",
    "result"
   ]
  },
  {
   "cell_type": "code",
   "execution_count": null,
   "metadata": {},
   "outputs": [],
   "source": []
  }
 ],
 "metadata": {
  "kernelspec": {
   "display_name": "Python 3",
   "language": "python",
   "name": "python3"
  },
  "language_info": {
   "codemirror_mode": {
    "name": "ipython",
    "version": 3
   },
   "file_extension": ".py",
   "mimetype": "text/x-python",
   "name": "python",
   "nbconvert_exporter": "python",
   "pygments_lexer": "ipython3",
   "version": "3.6.3"
  }
 },
 "nbformat": 4,
 "nbformat_minor": 2
}
